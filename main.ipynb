{
 "cells": [
  {
   "cell_type": "markdown",
   "metadata": {},
   "source": [
    "## COMP41680 - ASSIGNMENT 1 - DATA COLLECTION AND PREPERATION \n",
    "By Hamza Afridi, 19203351"
   ]
  },
  {
   "cell_type": "markdown",
   "metadata": {},
   "source": [
    "### Objective"
   ]
  },
  {
   "cell_type": "markdown",
   "metadata": {},
   "source": [
    "To collect data from an API/non static source, store and preprocess it and make preliminary analysis."
   ]
  },
  {
   "cell_type": "markdown",
   "metadata": {},
   "source": [
    "### Goal"
   ]
  },
  {
   "cell_type": "markdown",
   "metadata": {},
   "source": [
    "Conduct social media analysis for Delhi Riots to conduct sentiment analysis and user profiling."
   ]
  },
  {
   "cell_type": "markdown",
   "metadata": {},
   "source": [
    "### Background"
   ]
  },
  {
   "cell_type": "markdown",
   "metadata": {},
   "source": [
    "Following complete [lockdown of Indian-Administered-Kashmir](https://www.aljazeera.com/indepth/inpictures/pictures-100-days-crippling-lockdown-kashmir-191110141155667.html) on August 5, 2019 through abrogation of Article 370 of Indian constitution which gave autonomy to the reagion, government of India, on December 11, 2019, passed a controversial bill called [\"Citizenship Amendment Bill\"](https://www.bbc.com/news/world-asia-india-50670393), which aimed to provide citizenship to non-muslim minorities through naturalization. These two events were were opposed [nationally](https://edition.cnn.com/2019/12/31/opinions/india-citizenship-law-crosses-line-singh/index.html) and [internationally](https://www.indiatoday.in/india/story/caa-protest-world-students-international-foreign-modi-india-1637241-2020-01-16). Fueling religious radicalization, these events led [riots](https://en.wikipedia.org/wiki/2020_Delhi_riots) in major cities in the country, more specifically Delhi, capital of India. These riots are reffered to as **Delhi Riots**."
   ]
  },
  {
   "cell_type": "markdown",
   "metadata": {},
   "source": [
    "[EU DisinfoLab](https://www.disinfo.eu/), a Brussels based NGO, focused on tackling disinformation campaigns targeting EU, on November 26, 2019 realeased a report titled, [\"Uncovered: 265 coordinated fake local media outlets serving Indian interests\"](https://www.disinfo.eu/publications/uncovered-265-coordinated-fake-local-media-outlets-serving-indian-interests). This report further raised questions on authenticity of online content and this extends to content on social media. Governments and lobbyists have been using [social media](https://www.nytimes.com/2020/03/29/technology/facebook-google-twitter-november-election.html) to stir public preception."
   ]
  },
  {
   "cell_type": "markdown",
   "metadata": {},
   "source": [
    "### Approach"
   ]
  },
  {
   "cell_type": "markdown",
   "metadata": {},
   "source": [
    "To achieve above set goal, tweets will be extracted for this particular the [hashtag](https://help.twitter.com/en/using-twitter/how-to-use-hashtags) **#delhiriots**. Unique users will be identified and keyword will be identified. This approch is illustrated in the figure below:"
   ]
  },
  {
   "cell_type": "markdown",
   "metadata": {},
   "source": [
    "![](analysis_hashtag_delhiriots.jpeg)"
   ]
  },
  {
   "cell_type": "markdown",
   "metadata": {},
   "source": [
    "### Data Identification"
   ]
  },
  {
   "cell_type": "markdown",
   "metadata": {},
   "source": [
    "#### Platform selection"
   ]
  },
  {
   "cell_type": "markdown",
   "metadata": {},
   "source": [
    "Criterion for platform selection are as following:  \n",
    "- textual rich data\n",
    "- api/tool for data collection availability  \n",
    "- amount of disucussion  \n",
    "\n",
    "\n",
    "In order to conduct this analysis, following social media analysis are considered:  \n",
    "- facebook\n",
    "- twitter\n",
    "- reddit  \n",
    "\n",
    "For this assignment **twitter** is chosen and data is acquired using [twint](https://github.com/twintproject/twint) an opensource library to fetch twitter public data without any limit. Figure below shows rationale behind the decision for platform and tool selection."
   ]
  },
  {
   "cell_type": "markdown",
   "metadata": {},
   "source": [
    "![](platform_selection_mindmap.jpeg)"
   ]
  },
  {
   "cell_type": "markdown",
   "metadata": {},
   "source": [
    "#### Tool selection"
   ]
  },
  {
   "cell_type": "markdown",
   "metadata": {},
   "source": [
    "Inorder to collect data for this assignment [twint](https://github.com/twintproject/twint) is used. Twint is an advanced twitter scrapping tool which has no limits and no authentication required. The project is 2 years old, however, there is [active participation](https://github.com/twintproject/twint/graphs/code-frequency) by contributors.  "
   ]
  },
  {
   "cell_type": "code",
   "execution_count": 1,
   "metadata": {},
   "outputs": [],
   "source": [
    "#suppress warnings generated by ipython for cleaner working\n",
    "import warnings\n",
    "warnings.simplefilter('ignore')"
   ]
  },
  {
   "cell_type": "code",
   "execution_count": 33,
   "metadata": {},
   "outputs": [],
   "source": [
    "import twint #twitter scrapping tool\n",
    "import nest_asyncio #twint has dependency on this\n",
    "import os #to measure file size\n",
    "import time #to process time data\n",
    "import pandas as pd\n",
    "import seaborn as sns #plotting tool\n",
    "import matplotlib.pyplot as plt #plotting tool"
   ]
  },
  {
   "cell_type": "markdown",
   "metadata": {},
   "source": [
    "### Data collection"
   ]
  },
  {
   "cell_type": "markdown",
   "metadata": {},
   "source": [
    "There are two steps to data collection:  \n",
    "1. collect and store tweets\n",
    "2. extract contributing twitter handles and collect profile data for them"
   ]
  },
  {
   "cell_type": "markdown",
   "metadata": {},
   "source": [
    "#### Collect and store tweets \n",
    "Due to some network issue system would break after acquiring 14000 (approx.) tweets. Thus implemented a safe aquring 10k tweets at a time with delay 30sec after each request is implemented so that it doesn't appear as a ddos attack. "
   ]
  },
  {
   "cell_type": "code",
   "execution_count": 109,
   "metadata": {},
   "outputs": [],
   "source": [
    "nest_asyncio.apply() #so that multiple requests can be made at the same time\n",
    "tweet_client = twint.Config() # configure a client\n",
    "\n",
    "#search configuration\n",
    "tweet_client.Search = \"delhiriots\" #serach querry\n",
    "tweet_client.Limit = 10000 #max number of results\n",
    "tweet_client.Store_csv = True #store data to a csv file by appending it\n",
    "tweet_client.Output = \"tweets.csv\" #file name\n",
    "tweet_client.Hide_output = True #do not print output in the notebook\n",
    "tweet_client.Resume = 'last_qerry.txt'#last checkpoint to continue search incase of error"
   ]
  },
  {
   "cell_type": "code",
   "execution_count": 130,
   "metadata": {},
   "outputs": [],
   "source": [
    "old_size = os.path.getsize('./tweets.csv') #track file size\n",
    "twint.run.Search(tweet_client) #run search\n",
    "new_size = os.path.getsize('./tweets.csv') #track file size"
   ]
  },
  {
   "cell_type": "code",
   "execution_count": 134,
   "metadata": {},
   "outputs": [],
   "source": [
    "while(old_size<new_size):\n",
    "    twint.run.Search(tweet_client) #run search\n",
    "    old_size = new_size\n",
    "    new_size = os.path.getsize('./tweets.csv') #track file size\n",
    "    time.sleep(30)"
   ]
  },
  {
   "cell_type": "markdown",
   "metadata": {},
   "source": [
    "#### Collect and store participating user data "
   ]
  },
  {
   "cell_type": "markdown",
   "metadata": {},
   "source": [
    "This can be accomplished using preliminary data extraction and processing from raw data aquired in previous section. This will be accomplished by: \n",
    "- selecting only twitter handle from tweets.csv \n",
    "- removing duplicates if any\n",
    "- acquire user data for each user"
   ]
  },
  {
   "cell_type": "code",
   "execution_count": 155,
   "metadata": {},
   "outputs": [],
   "source": [
    "# reading twitter handles from tweets.csv\n",
    "participant_handles_df = pd.read_csv('tweets.csv', usecols=['username'])\n",
    "\n",
    "# remove duplicates\n",
    "participant_handles_df.drop_duplicates(inplace=True)\n",
    "participant_handles_df.to_csv(\"unique_users.csv\") # store users for future use"
   ]
  },
  {
   "cell_type": "code",
   "execution_count": 161,
   "metadata": {},
   "outputs": [
    {
     "name": "stdout",
     "output_type": "stream",
     "text": [
      "number of unique users:  58512\n"
     ]
    }
   ],
   "source": [
    "print(\"number of unique users: \",participant_handles_df.shape[0])"
   ]
  },
  {
   "cell_type": "markdown",
   "metadata": {},
   "source": [
    "In order to aquire these many users data simultanously we will employ technique of multiprocessing"
   ]
  },
  {
   "cell_type": "code",
   "execution_count": 170,
   "metadata": {},
   "outputs": [],
   "source": [
    "import threading #multiprocessing\n",
    "import asyncio\n",
    "\n",
    "def search_query(username):\n",
    "    asyncio.set_event_loop(asyncio.new_event_loop())\n",
    "    \n",
    "    #client configuration\n",
    "    user_client = twint.Config()\n",
    "    user_client.Store_csv = True\n",
    "    user_client.Hide_output = True\n",
    "    user_client.Output = \"users_parallel.csv\"\n",
    "    for user in username:\n",
    "        user_client.Username = user\n",
    "        twint.run.Lookup(user_client)\n",
    "\n",
    "max_queries=100 #number of simultanous querries\n",
    "user_thread=[]\n",
    "\n",
    "#generating and starting threads\n",
    "for i in range(max_queries):\n",
    "    user_thread.append(threading.Thread(target=search_query, args=(participant_handles_df.username[580*i:580*i+579],)))\n",
    "    user_thread[i].start()"
   ]
  },
  {
   "cell_type": "markdown",
   "metadata": {},
   "source": [
    "### Data preperation and analysis"
   ]
  },
  {
   "cell_type": "markdown",
   "metadata": {},
   "source": [
    "#### Data loading"
   ]
  },
  {
   "cell_type": "markdown",
   "metadata": {},
   "source": [
    "In this step both tweets and users data are stored in seperate data frames."
   ]
  },
  {
   "cell_type": "code",
   "execution_count": 196,
   "metadata": {},
   "outputs": [],
   "source": [
    "tweets_df = pd.read_csv(\"tweets.csv\") # read tweets data and store in dataframe\n",
    "users_df = pd.read_csv(\"users.csv\") # read users data and store in dataframe"
   ]
  },
  {
   "cell_type": "code",
   "execution_count": 197,
   "metadata": {},
   "outputs": [
    {
     "data": {
      "text/html": [
       "<div>\n",
       "<style scoped>\n",
       "    .dataframe tbody tr th:only-of-type {\n",
       "        vertical-align: middle;\n",
       "    }\n",
       "\n",
       "    .dataframe tbody tr th {\n",
       "        vertical-align: top;\n",
       "    }\n",
       "\n",
       "    .dataframe thead th {\n",
       "        text-align: right;\n",
       "    }\n",
       "</style>\n",
       "<table border=\"1\" class=\"dataframe\">\n",
       "  <thead>\n",
       "    <tr style=\"text-align: right;\">\n",
       "      <th></th>\n",
       "      <th>id</th>\n",
       "      <th>conversation_id</th>\n",
       "      <th>created_at</th>\n",
       "      <th>date</th>\n",
       "      <th>time</th>\n",
       "      <th>timezone</th>\n",
       "      <th>user_id</th>\n",
       "      <th>username</th>\n",
       "      <th>name</th>\n",
       "      <th>place</th>\n",
       "      <th>...</th>\n",
       "      <th>geo</th>\n",
       "      <th>source</th>\n",
       "      <th>user_rt_id</th>\n",
       "      <th>user_rt</th>\n",
       "      <th>retweet_id</th>\n",
       "      <th>reply_to</th>\n",
       "      <th>retweet_date</th>\n",
       "      <th>translate</th>\n",
       "      <th>trans_src</th>\n",
       "      <th>trans_dest</th>\n",
       "    </tr>\n",
       "  </thead>\n",
       "  <tbody>\n",
       "    <tr>\n",
       "      <th>0</th>\n",
       "      <td>1244589465558900737</td>\n",
       "      <td>1244589465558900737</td>\n",
       "      <td>1585568226000</td>\n",
       "      <td>2020-03-30</td>\n",
       "      <td>12:37:06</td>\n",
       "      <td>GMT Daylight Time</td>\n",
       "      <td>53000919</td>\n",
       "      <td>frontline_india</td>\n",
       "      <td>Frontline</td>\n",
       "      <td>NaN</td>\n",
       "      <td>...</td>\n",
       "      <td>NaN</td>\n",
       "      <td>NaN</td>\n",
       "      <td>NaN</td>\n",
       "      <td>NaN</td>\n",
       "      <td>NaN</td>\n",
       "      <td>[{'user_id': '53000919', 'username': 'frontlin...</td>\n",
       "      <td>NaN</td>\n",
       "      <td>NaN</td>\n",
       "      <td>NaN</td>\n",
       "      <td>NaN</td>\n",
       "    </tr>\n",
       "    <tr>\n",
       "      <th>1</th>\n",
       "      <td>1244589296482275328</td>\n",
       "      <td>1244589296482275328</td>\n",
       "      <td>1585568186000</td>\n",
       "      <td>2020-03-30</td>\n",
       "      <td>12:36:26</td>\n",
       "      <td>GMT Daylight Time</td>\n",
       "      <td>2840969317</td>\n",
       "      <td>sk_choudhary22</td>\n",
       "      <td>shubham kr.choudhary</td>\n",
       "      <td>NaN</td>\n",
       "      <td>...</td>\n",
       "      <td>NaN</td>\n",
       "      <td>NaN</td>\n",
       "      <td>NaN</td>\n",
       "      <td>NaN</td>\n",
       "      <td>NaN</td>\n",
       "      <td>[{'user_id': '2840969317', 'username': 'SK_Cho...</td>\n",
       "      <td>NaN</td>\n",
       "      <td>NaN</td>\n",
       "      <td>NaN</td>\n",
       "      <td>NaN</td>\n",
       "    </tr>\n",
       "    <tr>\n",
       "      <th>2</th>\n",
       "      <td>1244586785981620225</td>\n",
       "      <td>1244586785981620225</td>\n",
       "      <td>1585567587000</td>\n",
       "      <td>2020-03-30</td>\n",
       "      <td>12:26:27</td>\n",
       "      <td>GMT Daylight Time</td>\n",
       "      <td>1131530614551633923</td>\n",
       "      <td>jha_bhawana</td>\n",
       "      <td>Bhawana Jha</td>\n",
       "      <td>NaN</td>\n",
       "      <td>...</td>\n",
       "      <td>NaN</td>\n",
       "      <td>NaN</td>\n",
       "      <td>NaN</td>\n",
       "      <td>NaN</td>\n",
       "      <td>NaN</td>\n",
       "      <td>[{'user_id': '1131530614551633923', 'username'...</td>\n",
       "      <td>NaN</td>\n",
       "      <td>NaN</td>\n",
       "      <td>NaN</td>\n",
       "      <td>NaN</td>\n",
       "    </tr>\n",
       "    <tr>\n",
       "      <th>3</th>\n",
       "      <td>1244586558348390402</td>\n",
       "      <td>1244508501214289921</td>\n",
       "      <td>1585567533000</td>\n",
       "      <td>2020-03-30</td>\n",
       "      <td>12:25:33</td>\n",
       "      <td>GMT Daylight Time</td>\n",
       "      <td>164961165</td>\n",
       "      <td>hum_deke_rhenge</td>\n",
       "      <td>Azaadi</td>\n",
       "      <td>NaN</td>\n",
       "      <td>...</td>\n",
       "      <td>NaN</td>\n",
       "      <td>NaN</td>\n",
       "      <td>NaN</td>\n",
       "      <td>NaN</td>\n",
       "      <td>NaN</td>\n",
       "      <td>[{'user_id': '164961165', 'username': 'hum_dek...</td>\n",
       "      <td>NaN</td>\n",
       "      <td>NaN</td>\n",
       "      <td>NaN</td>\n",
       "      <td>NaN</td>\n",
       "    </tr>\n",
       "    <tr>\n",
       "      <th>4</th>\n",
       "      <td>1244585341761146880</td>\n",
       "      <td>1244580631100588034</td>\n",
       "      <td>1585567243000</td>\n",
       "      <td>2020-03-30</td>\n",
       "      <td>12:20:43</td>\n",
       "      <td>GMT Daylight Time</td>\n",
       "      <td>803088607</td>\n",
       "      <td>patilrakesh85</td>\n",
       "      <td>Rakesh Patil</td>\n",
       "      <td>NaN</td>\n",
       "      <td>...</td>\n",
       "      <td>NaN</td>\n",
       "      <td>NaN</td>\n",
       "      <td>NaN</td>\n",
       "      <td>NaN</td>\n",
       "      <td>NaN</td>\n",
       "      <td>[{'user_id': '803088607', 'username': 'PatilRa...</td>\n",
       "      <td>NaN</td>\n",
       "      <td>NaN</td>\n",
       "      <td>NaN</td>\n",
       "      <td>NaN</td>\n",
       "    </tr>\n",
       "  </tbody>\n",
       "</table>\n",
       "<p>5 rows × 34 columns</p>\n",
       "</div>"
      ],
      "text/plain": [
       "                    id      conversation_id     created_at        date  \\\n",
       "0  1244589465558900737  1244589465558900737  1585568226000  2020-03-30   \n",
       "1  1244589296482275328  1244589296482275328  1585568186000  2020-03-30   \n",
       "2  1244586785981620225  1244586785981620225  1585567587000  2020-03-30   \n",
       "3  1244586558348390402  1244508501214289921  1585567533000  2020-03-30   \n",
       "4  1244585341761146880  1244580631100588034  1585567243000  2020-03-30   \n",
       "\n",
       "       time           timezone              user_id         username  \\\n",
       "0  12:37:06  GMT Daylight Time             53000919  frontline_india   \n",
       "1  12:36:26  GMT Daylight Time           2840969317   sk_choudhary22   \n",
       "2  12:26:27  GMT Daylight Time  1131530614551633923      jha_bhawana   \n",
       "3  12:25:33  GMT Daylight Time            164961165  hum_deke_rhenge   \n",
       "4  12:20:43  GMT Daylight Time            803088607    patilrakesh85   \n",
       "\n",
       "                   name place  ... geo source user_rt_id user_rt  retweet_id  \\\n",
       "0             Frontline   NaN  ... NaN    NaN        NaN     NaN         NaN   \n",
       "1  shubham kr.choudhary   NaN  ... NaN    NaN        NaN     NaN         NaN   \n",
       "2           Bhawana Jha   NaN  ... NaN    NaN        NaN     NaN         NaN   \n",
       "3                Azaadi   NaN  ... NaN    NaN        NaN     NaN         NaN   \n",
       "4          Rakesh Patil   NaN  ... NaN    NaN        NaN     NaN         NaN   \n",
       "\n",
       "                                            reply_to  retweet_date translate  \\\n",
       "0  [{'user_id': '53000919', 'username': 'frontlin...           NaN       NaN   \n",
       "1  [{'user_id': '2840969317', 'username': 'SK_Cho...           NaN       NaN   \n",
       "2  [{'user_id': '1131530614551633923', 'username'...           NaN       NaN   \n",
       "3  [{'user_id': '164961165', 'username': 'hum_dek...           NaN       NaN   \n",
       "4  [{'user_id': '803088607', 'username': 'PatilRa...           NaN       NaN   \n",
       "\n",
       "  trans_src trans_dest  \n",
       "0       NaN        NaN  \n",
       "1       NaN        NaN  \n",
       "2       NaN        NaN  \n",
       "3       NaN        NaN  \n",
       "4       NaN        NaN  \n",
       "\n",
       "[5 rows x 34 columns]"
      ]
     },
     "execution_count": 197,
     "metadata": {},
     "output_type": "execute_result"
    }
   ],
   "source": [
    "tweets_df.head()"
   ]
  },
  {
   "cell_type": "markdown",
   "metadata": {},
   "source": [
    "As can be seen from the priliminary evaluation of above data there are many columns that are irrelavent to our analysis and can be safely dropped."
   ]
  },
  {
   "cell_type": "code",
   "execution_count": 198,
   "metadata": {},
   "outputs": [
    {
     "data": {
      "text/html": [
       "<div>\n",
       "<style scoped>\n",
       "    .dataframe tbody tr th:only-of-type {\n",
       "        vertical-align: middle;\n",
       "    }\n",
       "\n",
       "    .dataframe tbody tr th {\n",
       "        vertical-align: top;\n",
       "    }\n",
       "\n",
       "    .dataframe thead th {\n",
       "        text-align: right;\n",
       "    }\n",
       "</style>\n",
       "<table border=\"1\" class=\"dataframe\">\n",
       "  <thead>\n",
       "    <tr style=\"text-align: right;\">\n",
       "      <th></th>\n",
       "      <th>id</th>\n",
       "      <th>name</th>\n",
       "      <th>username</th>\n",
       "      <th>bio</th>\n",
       "      <th>location</th>\n",
       "      <th>url</th>\n",
       "      <th>join_date</th>\n",
       "      <th>join_time</th>\n",
       "      <th>tweets</th>\n",
       "      <th>following</th>\n",
       "      <th>followers</th>\n",
       "      <th>likes</th>\n",
       "      <th>media</th>\n",
       "      <th>private</th>\n",
       "      <th>verified</th>\n",
       "      <th>profile_image_url</th>\n",
       "      <th>background_image</th>\n",
       "    </tr>\n",
       "  </thead>\n",
       "  <tbody>\n",
       "    <tr>\n",
       "      <th>0</th>\n",
       "      <td>53000919</td>\n",
       "      <td>Frontline</td>\n",
       "      <td>frontline_india</td>\n",
       "      <td>A fortnightly magazine from The Hindu Group of...</td>\n",
       "      <td>Chennai</td>\n",
       "      <td>http://www.frontline.in</td>\n",
       "      <td>2 Jul 2009</td>\n",
       "      <td>12:25 AM</td>\n",
       "      <td>7044</td>\n",
       "      <td>10</td>\n",
       "      <td>35349</td>\n",
       "      <td>312</td>\n",
       "      <td>1808</td>\n",
       "      <td>0</td>\n",
       "      <td>1</td>\n",
       "      <td>https://pbs.twimg.com/profile_images/880687855...</td>\n",
       "      <td>https://pbs.twimg.com/profile_banners/53000919...</td>\n",
       "    </tr>\n",
       "    <tr>\n",
       "      <th>1</th>\n",
       "      <td>2840969317</td>\n",
       "      <td>shubham kr.choudhary</td>\n",
       "      <td>SK_Choudhary22</td>\n",
       "      <td>सब सुख लहै तुम्हारी सरना । तुम रक्षक काहू को ड...</td>\n",
       "      <td>NaN</td>\n",
       "      <td>NaN</td>\n",
       "      <td>5 Oct 2014</td>\n",
       "      <td>12:10 AM</td>\n",
       "      <td>43</td>\n",
       "      <td>49</td>\n",
       "      <td>13</td>\n",
       "      <td>159</td>\n",
       "      <td>15</td>\n",
       "      <td>0</td>\n",
       "      <td>0</td>\n",
       "      <td>https://pbs.twimg.com/profile_images/118073615...</td>\n",
       "      <td>https://pbs.twimg.com/profile_banners/28409693...</td>\n",
       "    </tr>\n",
       "    <tr>\n",
       "      <th>2</th>\n",
       "      <td>1131530614551633923</td>\n",
       "      <td>Bhawana Jha</td>\n",
       "      <td>jha_bhawana</td>\n",
       "      <td>Always high on life! Big foodie!! Likes to be ...</td>\n",
       "      <td>NaN</td>\n",
       "      <td>NaN</td>\n",
       "      <td>23 May 2019</td>\n",
       "      <td>5:01 AM</td>\n",
       "      <td>46</td>\n",
       "      <td>217</td>\n",
       "      <td>28</td>\n",
       "      <td>406</td>\n",
       "      <td>4</td>\n",
       "      <td>0</td>\n",
       "      <td>0</td>\n",
       "      <td>https://pbs.twimg.com/profile_images/113154037...</td>\n",
       "      <td>https://pbs.twimg.com/profile_banners/11315306...</td>\n",
       "    </tr>\n",
       "    <tr>\n",
       "      <th>3</th>\n",
       "      <td>164961165</td>\n",
       "      <td>Azaadi</td>\n",
       "      <td>hum_deke_rhenge</td>\n",
       "      <td>NaN</td>\n",
       "      <td>New Delhi, India</td>\n",
       "      <td>NaN</td>\n",
       "      <td>9 Jul 2010</td>\n",
       "      <td>10:49 PM</td>\n",
       "      <td>3406</td>\n",
       "      <td>134</td>\n",
       "      <td>42</td>\n",
       "      <td>175</td>\n",
       "      <td>850</td>\n",
       "      <td>0</td>\n",
       "      <td>0</td>\n",
       "      <td>https://pbs.twimg.com/profile_images/121883697...</td>\n",
       "      <td>NaN</td>\n",
       "    </tr>\n",
       "    <tr>\n",
       "      <th>4</th>\n",
       "      <td>803088607</td>\n",
       "      <td>Rakesh Patil</td>\n",
       "      <td>PatilRakesh85</td>\n",
       "      <td>Inspiration - Shivaji Maharaj. If he can fight...</td>\n",
       "      <td>NaN</td>\n",
       "      <td>NaN</td>\n",
       "      <td>4 Sep 2012</td>\n",
       "      <td>12:49 PM</td>\n",
       "      <td>10196</td>\n",
       "      <td>588</td>\n",
       "      <td>480</td>\n",
       "      <td>25388</td>\n",
       "      <td>92</td>\n",
       "      <td>0</td>\n",
       "      <td>0</td>\n",
       "      <td>https://pbs.twimg.com/profile_images/998249215...</td>\n",
       "      <td>https://pbs.twimg.com/profile_banners/80308860...</td>\n",
       "    </tr>\n",
       "  </tbody>\n",
       "</table>\n",
       "</div>"
      ],
      "text/plain": [
       "                    id                  name         username  \\\n",
       "0             53000919             Frontline  frontline_india   \n",
       "1           2840969317  shubham kr.choudhary   SK_Choudhary22   \n",
       "2  1131530614551633923           Bhawana Jha      jha_bhawana   \n",
       "3            164961165                Azaadi  hum_deke_rhenge   \n",
       "4            803088607          Rakesh Patil    PatilRakesh85   \n",
       "\n",
       "                                                 bio          location  \\\n",
       "0  A fortnightly magazine from The Hindu Group of...           Chennai   \n",
       "1  सब सुख लहै तुम्हारी सरना । तुम रक्षक काहू को ड...               NaN   \n",
       "2  Always high on life! Big foodie!! Likes to be ...               NaN   \n",
       "3                                                NaN  New Delhi, India   \n",
       "4  Inspiration - Shivaji Maharaj. If he can fight...               NaN   \n",
       "\n",
       "                       url    join_date join_time  tweets  following  \\\n",
       "0  http://www.frontline.in   2 Jul 2009  12:25 AM    7044         10   \n",
       "1                      NaN   5 Oct 2014  12:10 AM      43         49   \n",
       "2                      NaN  23 May 2019   5:01 AM      46        217   \n",
       "3                      NaN   9 Jul 2010  10:49 PM    3406        134   \n",
       "4                      NaN   4 Sep 2012  12:49 PM   10196        588   \n",
       "\n",
       "   followers  likes  media  private  verified  \\\n",
       "0      35349    312   1808        0         1   \n",
       "1         13    159     15        0         0   \n",
       "2         28    406      4        0         0   \n",
       "3         42    175    850        0         0   \n",
       "4        480  25388     92        0         0   \n",
       "\n",
       "                                   profile_image_url  \\\n",
       "0  https://pbs.twimg.com/profile_images/880687855...   \n",
       "1  https://pbs.twimg.com/profile_images/118073615...   \n",
       "2  https://pbs.twimg.com/profile_images/113154037...   \n",
       "3  https://pbs.twimg.com/profile_images/121883697...   \n",
       "4  https://pbs.twimg.com/profile_images/998249215...   \n",
       "\n",
       "                                    background_image  \n",
       "0  https://pbs.twimg.com/profile_banners/53000919...  \n",
       "1  https://pbs.twimg.com/profile_banners/28409693...  \n",
       "2  https://pbs.twimg.com/profile_banners/11315306...  \n",
       "3                                                NaN  \n",
       "4  https://pbs.twimg.com/profile_banners/80308860...  "
      ]
     },
     "execution_count": 198,
     "metadata": {},
     "output_type": "execute_result"
    }
   ],
   "source": [
    "users_df.head()"
   ]
  },
  {
   "cell_type": "markdown",
   "metadata": {},
   "source": [
    "Similar to previous case we can drop multiple features from here as they are not relavent to our goals or are empty anyways."
   ]
  },
  {
   "cell_type": "markdown",
   "metadata": {},
   "source": [
    "#### Feature analysis"
   ]
  },
  {
   "cell_type": "markdown",
   "metadata": {},
   "source": [
    "In this step we will coduct an inspection of columns/features of raw data for both data sets. We will make conclusions to which columns to drop in the preprocessing step."
   ]
  },
  {
   "cell_type": "markdown",
   "metadata": {},
   "source": [
    "Let's look at columns/features of tweets data."
   ]
  },
  {
   "cell_type": "code",
   "execution_count": 199,
   "metadata": {},
   "outputs": [
    {
     "data": {
      "text/plain": [
       "Index(['id', 'conversation_id', 'created_at', 'date', 'time', 'timezone',\n",
       "       'user_id', 'username', 'name', 'place', 'tweet', 'mentions', 'urls',\n",
       "       'photos', 'replies_count', 'retweets_count', 'likes_count', 'hashtags',\n",
       "       'cashtags', 'link', 'retweet', 'quote_url', 'video', 'near', 'geo',\n",
       "       'source', 'user_rt_id', 'user_rt', 'retweet_id', 'reply_to',\n",
       "       'retweet_date', 'translate', 'trans_src', 'trans_dest'],\n",
       "      dtype='object')"
      ]
     },
     "execution_count": 199,
     "metadata": {},
     "output_type": "execute_result"
    }
   ],
   "source": [
    "tweets_df.columns"
   ]
  },
  {
   "cell_type": "markdown",
   "metadata": {},
   "source": [
    "From the feature list above following are the relavent features:\n",
    "- created_at\n",
    "- date\n",
    "- time\n",
    "- timezone\n",
    "- username\n",
    "- tweet\n",
    "- mentions\n",
    "- replies_count\n",
    "- retweet_count\n",
    "- likes_count\n",
    "- hashtag"
   ]
  },
  {
   "cell_type": "code",
   "execution_count": 200,
   "metadata": {},
   "outputs": [
    {
     "data": {
      "text/plain": [
       "Index(['id', 'name', 'username', 'bio', 'location', 'url', 'join_date',\n",
       "       'join_time', 'tweets', 'following', 'followers', 'likes', 'media',\n",
       "       'private', 'verified', 'profile_image_url', 'background_image'],\n",
       "      dtype='object')"
      ]
     },
     "execution_count": 200,
     "metadata": {},
     "output_type": "execute_result"
    }
   ],
   "source": [
    "users_df.columns"
   ]
  },
  {
   "cell_type": "markdown",
   "metadata": {},
   "source": [
    "From the features above following are relavent features:\n",
    "- name\n",
    "- username\n",
    "- bio\n",
    "- location\n",
    "- join_date\n",
    "- join_time\n",
    "- tweets\n",
    "- following\n",
    "- followers\n",
    "- likes\n",
    "- private\n",
    "- verified"
   ]
  },
  {
   "cell_type": "markdown",
   "metadata": {},
   "source": [
    "#### Preprecessing"
   ]
  },
  {
   "cell_type": "markdown",
   "metadata": {},
   "source": [
    "In this step I will have the data go through the following steps:\n",
    "- drop irrelevant columns (features) from both datasets\n",
    "- extract tweets that are before the event and keep a seperate copy\n",
    "- convert date column to datetime format\n",
    "- drop tweets that are before the event (February 2020)\n",
    "- join the the two data sets appropriately"
   ]
  },
  {
   "cell_type": "markdown",
   "metadata": {},
   "source": [
    "##### droping irrelavent features"
   ]
  },
  {
   "cell_type": "code",
   "execution_count": 201,
   "metadata": {},
   "outputs": [],
   "source": [
    "#drop columns that are not required in tweets dataframe\n",
    "tweets_df.drop(columns=['id', 'conversation_id', 'user_id', 'name', 'place', 'urls', 'photos',\n",
    "       'cashtags', 'link', 'retweet', 'quote_url', 'video', 'near', 'geo',\n",
    "       'source', 'user_rt_id', 'user_rt', 'retweet_id', 'reply_to',\n",
    "       'retweet_date', 'translate', 'trans_src', 'trans_dest'], axis=1, inplace=True)"
   ]
  },
  {
   "cell_type": "code",
   "execution_count": 202,
   "metadata": {},
   "outputs": [
    {
     "data": {
      "text/plain": [
       "Index(['created_at', 'date', 'time', 'timezone', 'username', 'tweet',\n",
       "       'mentions', 'replies_count', 'retweets_count', 'likes_count',\n",
       "       'hashtags'],\n",
       "      dtype='object')"
      ]
     },
     "execution_count": 202,
     "metadata": {},
     "output_type": "execute_result"
    }
   ],
   "source": [
    "#verify if drop of columns successful in tweets dataframe\n",
    "tweets_df.columns"
   ]
  },
  {
   "cell_type": "code",
   "execution_count": 203,
   "metadata": {},
   "outputs": [],
   "source": [
    "#drop columns that are not required in users dataframe\n",
    "users_df.drop(columns=['id', 'url', 'media', 'profile_image_url', 'background_image'], axis=1, inplace=True)"
   ]
  },
  {
   "cell_type": "code",
   "execution_count": 204,
   "metadata": {},
   "outputs": [
    {
     "data": {
      "text/plain": [
       "Index(['name', 'username', 'bio', 'location', 'join_date', 'join_time',\n",
       "       'tweets', 'following', 'followers', 'likes', 'private', 'verified'],\n",
       "      dtype='object')"
      ]
     },
     "execution_count": 204,
     "metadata": {},
     "output_type": "execute_result"
    }
   ],
   "source": [
    "#verify if drop of columns successfil in users dataframe\n",
    "users_df.columns"
   ]
  },
  {
   "cell_type": "markdown",
   "metadata": {},
   "source": [
    "##### covert date column to datetime datetype"
   ]
  },
  {
   "cell_type": "markdown",
   "metadata": {},
   "source": [
    "This conversion is easily accomplished using to_datetime function in pandas."
   ]
  },
  {
   "cell_type": "code",
   "execution_count": 205,
   "metadata": {},
   "outputs": [],
   "source": [
    "tweets_df['date'] = pd.to_datetime(tweets_df.date)\n",
    "users_df['join_date'] = pd.to_datetime(users_df.join_date)"
   ]
  },
  {
   "cell_type": "code",
   "execution_count": 206,
   "metadata": {},
   "outputs": [
    {
     "data": {
      "text/plain": [
       "0   2020-03-30\n",
       "1   2020-03-30\n",
       "2   2020-03-30\n",
       "3   2020-03-30\n",
       "4   2020-03-30\n",
       "Name: date, dtype: datetime64[ns]"
      ]
     },
     "execution_count": 206,
     "metadata": {},
     "output_type": "execute_result"
    }
   ],
   "source": [
    "#verification of successful conversion\n",
    "tweets_df['date'].head()"
   ]
  },
  {
   "cell_type": "markdown",
   "metadata": {},
   "source": [
    "Before going anyfurther lets looks at when the oldest tweet was when we got this data"
   ]
  },
  {
   "cell_type": "code",
   "execution_count": 207,
   "metadata": {},
   "outputs": [
    {
     "name": "stdout",
     "output_type": "stream",
     "text": [
      "oldest tweet date: 2008-08-19 00:00:00\n"
     ]
    }
   ],
   "source": [
    "print(\"oldest tweet date:\",min(tweets_df.date))"
   ]
  },
  {
   "cell_type": "markdown",
   "metadata": {},
   "source": [
    "looks like we have older data, we will have to drop anything older than our time of interest"
   ]
  },
  {
   "cell_type": "markdown",
   "metadata": {},
   "source": [
    "##### extrating tweets older than 1st February 2020"
   ]
  },
  {
   "cell_type": "code",
   "execution_count": 208,
   "metadata": {},
   "outputs": [],
   "source": [
    "tweets_bft = tweets_df[(tweets_df.date<\"2020-02-22\")] #filter tweets older than 22nd February 2020"
   ]
  },
  {
   "cell_type": "code",
   "execution_count": 209,
   "metadata": {},
   "outputs": [
    {
     "data": {
      "text/plain": [
       "Timestamp('2020-02-21 00:00:00')"
      ]
     },
     "execution_count": 209,
     "metadata": {},
     "output_type": "execute_result"
    }
   ],
   "source": [
    "#verify successful filtering\n",
    "max(tweets_bft.date)"
   ]
  },
  {
   "cell_type": "markdown",
   "metadata": {},
   "source": [
    "##### drop tweets before the event"
   ]
  },
  {
   "cell_type": "code",
   "execution_count": 210,
   "metadata": {},
   "outputs": [],
   "source": [
    "tweets_df = tweets_df[(tweets_df.date>\"2020-02-21\")] #filter tweets latest than 22nd February 2020"
   ]
  },
  {
   "cell_type": "code",
   "execution_count": 211,
   "metadata": {},
   "outputs": [
    {
     "data": {
      "text/plain": [
       "Timestamp('2020-02-22 00:00:00')"
      ]
     },
     "execution_count": 211,
     "metadata": {},
     "output_type": "execute_result"
    }
   ],
   "source": [
    "#verify successful filtering\n",
    "min(tweets_df.date)"
   ]
  },
  {
   "cell_type": "markdown",
   "metadata": {},
   "source": [
    "##### join users and tweets data frames"
   ]
  },
  {
   "cell_type": "markdown",
   "metadata": {},
   "source": [
    "However, joining the two dataframes might not be an efficient solution. This step is just being done to demonstrate understading of integrating data together."
   ]
  },
  {
   "cell_type": "code",
   "execution_count": 212,
   "metadata": {},
   "outputs": [],
   "source": [
    "tweet_user_df = tweets_df.set_index('username').join(users_df.set_index('username')) #join with username as key"
   ]
  },
  {
   "cell_type": "code",
   "execution_count": 213,
   "metadata": {},
   "outputs": [
    {
     "data": {
      "text/plain": [
       "Index(['created_at', 'date', 'time', 'timezone', 'tweet', 'mentions',\n",
       "       'replies_count', 'retweets_count', 'likes_count', 'hashtags', 'name',\n",
       "       'bio', 'location', 'join_date', 'join_time', 'tweets', 'following',\n",
       "       'followers', 'likes', 'private', 'verified'],\n",
       "      dtype='object')"
      ]
     },
     "execution_count": 213,
     "metadata": {},
     "output_type": "execute_result"
    }
   ],
   "source": [
    "tweet_user_df.columns"
   ]
  },
  {
   "cell_type": "code",
   "execution_count": 214,
   "metadata": {},
   "outputs": [
    {
     "data": {
      "text/html": [
       "<div>\n",
       "<style scoped>\n",
       "    .dataframe tbody tr th:only-of-type {\n",
       "        vertical-align: middle;\n",
       "    }\n",
       "\n",
       "    .dataframe tbody tr th {\n",
       "        vertical-align: top;\n",
       "    }\n",
       "\n",
       "    .dataframe thead th {\n",
       "        text-align: right;\n",
       "    }\n",
       "</style>\n",
       "<table border=\"1\" class=\"dataframe\">\n",
       "  <thead>\n",
       "    <tr style=\"text-align: right;\">\n",
       "      <th></th>\n",
       "      <th>created_at</th>\n",
       "      <th>date</th>\n",
       "      <th>time</th>\n",
       "      <th>timezone</th>\n",
       "      <th>tweet</th>\n",
       "      <th>mentions</th>\n",
       "      <th>replies_count</th>\n",
       "      <th>retweets_count</th>\n",
       "      <th>likes_count</th>\n",
       "      <th>hashtags</th>\n",
       "      <th>...</th>\n",
       "      <th>bio</th>\n",
       "      <th>location</th>\n",
       "      <th>join_date</th>\n",
       "      <th>join_time</th>\n",
       "      <th>tweets</th>\n",
       "      <th>following</th>\n",
       "      <th>followers</th>\n",
       "      <th>likes</th>\n",
       "      <th>private</th>\n",
       "      <th>verified</th>\n",
       "    </tr>\n",
       "    <tr>\n",
       "      <th>username</th>\n",
       "      <th></th>\n",
       "      <th></th>\n",
       "      <th></th>\n",
       "      <th></th>\n",
       "      <th></th>\n",
       "      <th></th>\n",
       "      <th></th>\n",
       "      <th></th>\n",
       "      <th></th>\n",
       "      <th></th>\n",
       "      <th></th>\n",
       "      <th></th>\n",
       "      <th></th>\n",
       "      <th></th>\n",
       "      <th></th>\n",
       "      <th></th>\n",
       "      <th></th>\n",
       "      <th></th>\n",
       "      <th></th>\n",
       "      <th></th>\n",
       "      <th></th>\n",
       "    </tr>\n",
       "  </thead>\n",
       "  <tbody>\n",
       "    <tr>\n",
       "      <th>0088com</th>\n",
       "      <td>1585294189000</td>\n",
       "      <td>2020-03-27</td>\n",
       "      <td>07:29:49</td>\n",
       "      <td>GMT Daylight Time</td>\n",
       "      <td>This man deserve death with stones in open are...</td>\n",
       "      <td>['jkpdp', 'ranaayyub', 'iamrana', 'deepikasraj...</td>\n",
       "      <td>0</td>\n",
       "      <td>0</td>\n",
       "      <td>0</td>\n",
       "      <td>[]</td>\n",
       "      <td>...</td>\n",
       "      <td>help others</td>\n",
       "      <td>Srinagar Jammu and Kashmir</td>\n",
       "      <td>2011-10-16</td>\n",
       "      <td>11:15 AM</td>\n",
       "      <td>198.0</td>\n",
       "      <td>467.0</td>\n",
       "      <td>20.0</td>\n",
       "      <td>308.0</td>\n",
       "      <td>0.0</td>\n",
       "      <td>0.0</td>\n",
       "    </tr>\n",
       "    <tr>\n",
       "      <th>12sanskar</th>\n",
       "      <td>1584527619000</td>\n",
       "      <td>2020-03-18</td>\n",
       "      <td>10:33:39</td>\n",
       "      <td>GMT Daylight Time</td>\n",
       "      <td>Small contribution from me\\nFor our hindus fam...</td>\n",
       "      <td>['kapilmishra_ind', 'tajinderbagga', 'real_anuj']</td>\n",
       "      <td>1</td>\n",
       "      <td>4</td>\n",
       "      <td>12</td>\n",
       "      <td>['#1crore4delhihindu']</td>\n",
       "      <td>...</td>\n",
       "      <td>NaN</td>\n",
       "      <td>Ajmer, India</td>\n",
       "      <td>2019-05-20</td>\n",
       "      <td>8:35 PM</td>\n",
       "      <td>3519.0</td>\n",
       "      <td>4518.0</td>\n",
       "      <td>5098.0</td>\n",
       "      <td>3660.0</td>\n",
       "      <td>0.0</td>\n",
       "      <td>0.0</td>\n",
       "    </tr>\n",
       "  </tbody>\n",
       "</table>\n",
       "<p>2 rows × 21 columns</p>\n",
       "</div>"
      ],
      "text/plain": [
       "              created_at       date      time           timezone  \\\n",
       "username                                                           \n",
       "0088com    1585294189000 2020-03-27  07:29:49  GMT Daylight Time   \n",
       "12sanskar  1584527619000 2020-03-18  10:33:39  GMT Daylight Time   \n",
       "\n",
       "                                                       tweet  \\\n",
       "username                                                       \n",
       "0088com    This man deserve death with stones in open are...   \n",
       "12sanskar  Small contribution from me\\nFor our hindus fam...   \n",
       "\n",
       "                                                    mentions  replies_count  \\\n",
       "username                                                                      \n",
       "0088com    ['jkpdp', 'ranaayyub', 'iamrana', 'deepikasraj...              0   \n",
       "12sanskar  ['kapilmishra_ind', 'tajinderbagga', 'real_anuj']              1   \n",
       "\n",
       "           retweets_count  likes_count                hashtags  ...  \\\n",
       "username                                                        ...   \n",
       "0088com                 0            0                      []  ...   \n",
       "12sanskar               4           12  ['#1crore4delhihindu']  ...   \n",
       "\n",
       "                   bio                    location  join_date join_time  \\\n",
       "username                                                                  \n",
       "0088com    help others  Srinagar Jammu and Kashmir 2011-10-16  11:15 AM   \n",
       "12sanskar          NaN                Ajmer, India 2019-05-20   8:35 PM   \n",
       "\n",
       "           tweets  following  followers   likes  private  verified  \n",
       "username                                                            \n",
       "0088com     198.0      467.0       20.0   308.0      0.0       0.0  \n",
       "12sanskar  3519.0     4518.0     5098.0  3660.0      0.0       0.0  \n",
       "\n",
       "[2 rows x 21 columns]"
      ]
     },
     "execution_count": 214,
     "metadata": {},
     "output_type": "execute_result"
    }
   ],
   "source": [
    "# the below filter has been set as participating users were too large (58k+) even with multiprocessing it is taking more time. So only 1400 were extracted for the purpose of this assignment \n",
    "tweet_user_df[~(tweet_user_df.join_date.isna())].head(2)"
   ]
  },
  {
   "cell_type": "markdown",
   "metadata": {},
   "source": [
    "#### Analysis"
   ]
  },
  {
   "cell_type": "markdown",
   "metadata": {},
   "source": [
    "\n",
    "##### from tweets data"
   ]
  },
  {
   "cell_type": "markdown",
   "metadata": {},
   "source": [
    "##### tweet frequency analysis"
   ]
  },
  {
   "cell_type": "markdown",
   "metadata": {},
   "source": [
    "As we have have already filtered tweets data, let's first analyze the frequecy of tweets overtime."
   ]
  },
  {
   "cell_type": "code",
   "execution_count": 215,
   "metadata": {},
   "outputs": [
    {
     "data": {
      "text/plain": [
       "<matplotlib.axes._subplots.AxesSubplot at 0x27131643548>"
      ]
     },
     "execution_count": 215,
     "metadata": {},
     "output_type": "execute_result"
    },
    {
     "data": {
      "image/png": "[encoded data removed]",
      "text/plain": [
       "<Figure size 1152x432 with 1 Axes>"
      ]
     },
     "metadata": {
      "needs_background": "light"
     },
     "output_type": "display_data"
    }
   ],
   "source": [
    "date_df=tweets_df.date.groupby(tweets_df[\"date\"]).count() #group by using date to generate histogram\n",
    "date_df.plot(kind=\"bar\", title=\"histogram of tweets\", figsize=(16,6))"
   ]
  },
  {
   "cell_type": "markdown",
   "metadata": {},
   "source": [
    "Above histogram shows that the during the riots there were maximum number of tweets, thus highlighting the importance of this issue. Maximum number of tweets are dated for 25 February, 2020."
   ]
  },
  {
   "cell_type": "markdown",
   "metadata": {},
   "source": [
    "##### engagement analysis"
   ]
  },
  {
   "cell_type": "markdown",
   "metadata": {},
   "source": [
    "Another important analysis would be to visualize engagements on tweets. For this we will filter out any tweet that has zero interaction and visualize the spread of the data using boxplot."
   ]
  },
  {
   "cell_type": "code",
   "execution_count": 216,
   "metadata": {},
   "outputs": [
    {
     "data": {
      "text/plain": [
       "<matplotlib.axes._subplots.AxesSubplot at 0x27130fde208>"
      ]
     },
     "execution_count": 216,
     "metadata": {},
     "output_type": "execute_result"
    },
    {
     "data": {
      "image/png": "[encoded data removed]",
      "text/plain": [
       "<Figure size 432x288 with 1 Axes>"
      ]
     },
     "metadata": {
      "needs_background": "light"
     },
     "output_type": "display_data"
    }
   ],
   "source": [
    "tweets_df[['retweets_count','likes_count','replies_count']].boxplot()"
   ]
  },
  {
   "cell_type": "markdown",
   "metadata": {},
   "source": [
    "As clear from the above diagram most engagement is closer to zero. If we filter that out we can have better understanding of spread. Also there are clearly few outliers, with significant likes and/or retweets."
   ]
  },
  {
   "cell_type": "markdown",
   "metadata": {},
   "source": [
    "We will now generate box plot again by ignoring tweets greater than 0 engagments."
   ]
  },
  {
   "cell_type": "code",
   "execution_count": 217,
   "metadata": {},
   "outputs": [
    {
     "data": {
      "text/plain": [
       "<matplotlib.axes._subplots.AxesSubplot at 0x27131036648>"
      ]
     },
     "execution_count": 217,
     "metadata": {},
     "output_type": "execute_result"
    },
    {
     "data": {
      "image/png": "[encoded data removed]",
      "text/plain": [
       "<Figure size 432x288 with 1 Axes>"
      ]
     },
     "metadata": {
      "needs_background": "light"
     },
     "output_type": "display_data"
    }
   ],
   "source": [
    "tweets_df[((tweets_df.retweets_count+tweets_df.likes_count+tweets_df.replies_count)>0)][['retweets_count','likes_count','replies_count']].boxplot()"
   ]
  },
  {
   "cell_type": "markdown",
   "metadata": {},
   "source": [
    "No signigicant different is observed. Let's visualize distribution of these engagements. Note: engagement is sum of retweets, likes and replies count."
   ]
  },
  {
   "cell_type": "code",
   "execution_count": 218,
   "metadata": {},
   "outputs": [
    {
     "data": {
      "text/plain": [
       "Text(0.5, 1.0, 'distribution of engagement')"
      ]
     },
     "execution_count": 218,
     "metadata": {},
     "output_type": "execute_result"
    },
    {
     "data": {
      "image/png": "[encoded data removed]",
      "text/plain": [
       "<Figure size 1152x432 with 1 Axes>"
      ]
     },
     "metadata": {
      "needs_background": "light"
     },
     "output_type": "display_data"
    }
   ],
   "source": [
    "plt.figure(figsize=(16, 6))\n",
    "sns.distplot(tweets_df.retweets_count+tweets_df.likes_count+tweets_df.replies_count, hist=False, bins=1).set_title(\"distribution of engagement\")"
   ]
  },
  {
   "cell_type": "markdown",
   "metadata": {},
   "source": [
    "The clear spike not close to zero suggests that this was a highly engaging topic. There was contribution to the discussion by the participants."
   ]
  },
  {
   "cell_type": "markdown",
   "metadata": {},
   "source": [
    "##### top tweets"
   ]
  },
  {
   "cell_type": "markdown",
   "metadata": {},
   "source": [
    "We will now analyze tweet of the with highest engagement feature both individual and commulative."
   ]
  },
  {
   "cell_type": "code",
   "execution_count": 219,
   "metadata": {},
   "outputs": [
    {
     "name": "stdout",
     "output_type": "stream",
     "text": [
      "Best tweet based on likes: \"Stop blaming Modi for Delhi riots and all things evil in India   https://gulfnews.com/opinion/op-eds/stop-blaming-modi-for-delhi-riots-and-all-things-evil-in-india-1.1583761983415 …\" by abdulhamidahmad\n"
     ]
    }
   ],
   "source": [
    "#tweet with most likes\n",
    "best_tweet_likes = tweets_df[(tweets_df.likes_count==max(tweets_df.likes_count))]\n",
    "print(\"Best tweet based on likes: \\\"%s\\\" by %s\"%(best_tweet_likes.tweet.values[0], best_tweet_likes.username.values[0]))"
   ]
  },
  {
   "cell_type": "code",
   "execution_count": 220,
   "metadata": {},
   "outputs": [
    {
     "name": "stdout",
     "output_type": "stream",
     "text": [
      "Best tweet based on retweets: \"Stop blaming Modi for Delhi riots and all things evil in India   https://gulfnews.com/opinion/op-eds/stop-blaming-modi-for-delhi-riots-and-all-things-evil-in-india-1.1583761983415 …\" by abdulhamidahmad\n"
     ]
    }
   ],
   "source": [
    "#tweet with most likes\n",
    "best_tweet_retweets = tweets_df[(tweets_df.retweets_count==max(tweets_df.retweets_count))]\n",
    "print(\"Best tweet based on retweets: \\\"%s\\\" by %s\"%(best_tweet_retweets.tweet.values[0], best_tweet_retweets.username.values[0]))"
   ]
  },
  {
   "cell_type": "code",
   "execution_count": 221,
   "metadata": {},
   "outputs": [
    {
     "name": "stdout",
     "output_type": "stream",
     "text": [
      "Best tweet based on replies: \"Post-mortem report shows IB staffer Ankit Sharma, killed in Delhi riots, was stabbed 12 times and not 400 times\n",
      "\n",
      "@BhardwajAnanya reports\n",
      "\n",
      "#ThePrintExclusive http://bit.ly/2QdJWLW \" by shekhargupta\n"
     ]
    }
   ],
   "source": [
    "#tweet with most replies\n",
    "best_tweet_replies = tweets_df[(tweets_df.replies_count==max(tweets_df.replies_count))]\n",
    "print(\"Best tweet based on replies: \\\"%s\\\" by %s\"%(best_tweet_replies.tweet.values[0], best_tweet_replies.username.values[0]))"
   ]
  },
  {
   "cell_type": "code",
   "execution_count": 222,
   "metadata": {},
   "outputs": [
    {
     "name": "stdout",
     "output_type": "stream",
     "text": [
      "Best tweet based on engagement: \"Stop blaming Modi for Delhi riots and all things evil in India   https://gulfnews.com/opinion/op-eds/stop-blaming-modi-for-delhi-riots-and-all-things-evil-in-india-1.1583761983415 …\" by abdulhamidahmad\n"
     ]
    }
   ],
   "source": [
    "#tweet with most engagements\n",
    "best_tweet_engagements = tweets_df[((tweets_df.retweets_count+tweets_df.likes_count+tweets_df.replies_count)==max(tweets_df.retweets_count+tweets_df.likes_count+tweets_df.replies_count))]\n",
    "print(\"Best tweet based on engagement: \\\"%s\\\" by %s\"%(best_tweet_engagements.tweet.values[0], best_tweet_engagements.username.values[0]))"
   ]
  },
  {
   "cell_type": "markdown",
   "metadata": {},
   "source": [
    "It can be seen that abdulhamidahmad who is Editor in Cheif of Gulf News got most likes, retweets and likes. On the other shekhargupta who is an Indian journalist got most replies.  "
   ]
  },
  {
   "cell_type": "markdown",
   "metadata": {},
   "source": [
    "##### from participants data"
   ]
  },
  {
   "cell_type": "markdown",
   "metadata": {},
   "source": [
    "Now we will analyze participant data."
   ]
  },
  {
   "cell_type": "markdown",
   "metadata": {},
   "source": [
    "##### verified users"
   ]
  },
  {
   "cell_type": "markdown",
   "metadata": {},
   "source": [
    "It is expected to be very small but the engagement of verified vs un-verified is priliminary information we can get from the participating users data."
   ]
  },
  {
   "cell_type": "code",
   "execution_count": 223,
   "metadata": {},
   "outputs": [
    {
     "data": {
      "image/png": "[encoded data removed]",
      "text/plain": [
       "<Figure size 504x504 with 1 Axes>"
      ]
     },
     "metadata": {},
     "output_type": "display_data"
    }
   ],
   "source": [
    "plt.figure(figsize=(7, 7))\n",
    "plt.title(\"verified vs unverified participants\")\n",
    "plt.pie(users_df.username.groupby(users_df.verified).count(), labels=[\"unverified\",\"verified\"],autopct='%1.1f%%', explode=[0.2,0],startangle=90)\n",
    "plt.show()"
   ]
  },
  {
   "cell_type": "markdown",
   "metadata": {},
   "source": [
    "So from the above pie 2% participants are verified users and 98% are unverified users. Not alot of information is available on what percentage of users are verified. The closest numbers I could get were in this [article](https://www.brandwatch.com/blog/twitter-stats-and-statistics/). However, given strict rules of twitter on verification of twitter handles I believe it's a significant number, which suggests the seriousness of the issue."
   ]
  },
  {
   "cell_type": "markdown",
   "metadata": {},
   "source": [
    "##### twitter age analysis"
   ]
  },
  {
   "cell_type": "markdown",
   "metadata": {},
   "source": [
    "In order to track down fake army accounts twitter age is an important paramter."
   ]
  },
  {
   "cell_type": "code",
   "execution_count": 234,
   "metadata": {},
   "outputs": [],
   "source": [
    "users_df[\"twitter_age\"]=max(tweets_df['date'])-users_df['join_date'] #max is the latest tweet that is on 30th March 2020"
   ]
  },
  {
   "cell_type": "code",
   "execution_count": 235,
   "metadata": {},
   "outputs": [
    {
     "data": {
      "image/png": "[encoded data removed]",
      "text/plain": [
       "<Figure size 432x288 with 1 Axes>"
      ]
     },
     "metadata": {
      "needs_background": "light"
     },
     "output_type": "display_data"
    }
   ],
   "source": [
    "sns.distplot(users_df[\"twitter_age\"].dt.days, hist=False)\n",
    "plt.title(\"distribution of twitter age of participants\")\n",
    "plt.show()"
   ]
  },
  {
   "cell_type": "markdown",
   "metadata": {},
   "source": [
    "Interesting how distribution plots show two peaks. The first peak near zero might be an indicator of creation of twitter army."
   ]
  },
  {
   "cell_type": "markdown",
   "metadata": {},
   "source": [
    "##### followers, following, tweets and likes analysis"
   ]
  },
  {
   "cell_type": "markdown",
   "metadata": {},
   "source": [
    "In order to analyse this I will divide the set into two groups based on age:\n",
    "1. age < 50 days\n",
    "2. age > 50 days"
   ]
  },
  {
   "cell_type": "code",
   "execution_count": 242,
   "metadata": {},
   "outputs": [
    {
     "data": {
      "text/html": [
       "<div>\n",
       "<style scoped>\n",
       "    .dataframe tbody tr th:only-of-type {\n",
       "        vertical-align: middle;\n",
       "    }\n",
       "\n",
       "    .dataframe tbody tr th {\n",
       "        vertical-align: top;\n",
       "    }\n",
       "\n",
       "    .dataframe thead th {\n",
       "        text-align: right;\n",
       "    }\n",
       "</style>\n",
       "<table border=\"1\" class=\"dataframe\">\n",
       "  <thead>\n",
       "    <tr style=\"text-align: right;\">\n",
       "      <th></th>\n",
       "      <th>tweets</th>\n",
       "      <th>followers</th>\n",
       "      <th>following</th>\n",
       "      <th>likes</th>\n",
       "    </tr>\n",
       "  </thead>\n",
       "  <tbody>\n",
       "    <tr>\n",
       "      <th>count</th>\n",
       "      <td>305.000000</td>\n",
       "      <td>305.000000</td>\n",
       "      <td>305.000000</td>\n",
       "      <td>305.000000</td>\n",
       "    </tr>\n",
       "    <tr>\n",
       "      <th>mean</th>\n",
       "      <td>891.836066</td>\n",
       "      <td>63.757377</td>\n",
       "      <td>219.455738</td>\n",
       "      <td>1045.652459</td>\n",
       "    </tr>\n",
       "    <tr>\n",
       "      <th>std</th>\n",
       "      <td>1596.952332</td>\n",
       "      <td>174.532534</td>\n",
       "      <td>400.802065</td>\n",
       "      <td>1721.453084</td>\n",
       "    </tr>\n",
       "    <tr>\n",
       "      <th>min</th>\n",
       "      <td>1.000000</td>\n",
       "      <td>0.000000</td>\n",
       "      <td>0.000000</td>\n",
       "      <td>0.000000</td>\n",
       "    </tr>\n",
       "    <tr>\n",
       "      <th>25%</th>\n",
       "      <td>65.000000</td>\n",
       "      <td>2.000000</td>\n",
       "      <td>28.000000</td>\n",
       "      <td>40.000000</td>\n",
       "    </tr>\n",
       "    <tr>\n",
       "      <th>50%</th>\n",
       "      <td>302.000000</td>\n",
       "      <td>10.000000</td>\n",
       "      <td>82.000000</td>\n",
       "      <td>261.000000</td>\n",
       "    </tr>\n",
       "    <tr>\n",
       "      <th>75%</th>\n",
       "      <td>1062.000000</td>\n",
       "      <td>39.000000</td>\n",
       "      <td>223.000000</td>\n",
       "      <td>1430.000000</td>\n",
       "    </tr>\n",
       "    <tr>\n",
       "      <th>max</th>\n",
       "      <td>11615.000000</td>\n",
       "      <td>1783.000000</td>\n",
       "      <td>3536.000000</td>\n",
       "      <td>13397.000000</td>\n",
       "    </tr>\n",
       "  </tbody>\n",
       "</table>\n",
       "</div>"
      ],
      "text/plain": [
       "             tweets    followers    following         likes\n",
       "count    305.000000   305.000000   305.000000    305.000000\n",
       "mean     891.836066    63.757377   219.455738   1045.652459\n",
       "std     1596.952332   174.532534   400.802065   1721.453084\n",
       "min        1.000000     0.000000     0.000000      0.000000\n",
       "25%       65.000000     2.000000    28.000000     40.000000\n",
       "50%      302.000000    10.000000    82.000000    261.000000\n",
       "75%     1062.000000    39.000000   223.000000   1430.000000\n",
       "max    11615.000000  1783.000000  3536.000000  13397.000000"
      ]
     },
     "execution_count": 242,
     "metadata": {},
     "output_type": "execute_result"
    }
   ],
   "source": [
    "#statisitcal description of users with less than 50 days age\n",
    "users_df[(users_df.twitter_age.dt.days<50)][['tweets',\"followers\",\"following\",\"likes\"]].describe()"
   ]
  },
  {
   "cell_type": "markdown",
   "metadata": {},
   "source": [
    "For participants with are significantly new on twitter, number of average tweets and likes are suspicious. However, this needs to be further investigated to conclude fake users."
   ]
  },
  {
   "cell_type": "code",
   "execution_count": 244,
   "metadata": {},
   "outputs": [
    {
     "data": {
      "text/html": [
       "<div>\n",
       "<style scoped>\n",
       "    .dataframe tbody tr th:only-of-type {\n",
       "        vertical-align: middle;\n",
       "    }\n",
       "\n",
       "    .dataframe tbody tr th {\n",
       "        vertical-align: top;\n",
       "    }\n",
       "\n",
       "    .dataframe thead th {\n",
       "        text-align: right;\n",
       "    }\n",
       "</style>\n",
       "<table border=\"1\" class=\"dataframe\">\n",
       "  <thead>\n",
       "    <tr style=\"text-align: right;\">\n",
       "      <th></th>\n",
       "      <th>tweets</th>\n",
       "      <th>followers</th>\n",
       "      <th>following</th>\n",
       "      <th>likes</th>\n",
       "    </tr>\n",
       "  </thead>\n",
       "  <tbody>\n",
       "    <tr>\n",
       "      <th>count</th>\n",
       "      <td>4.577000e+03</td>\n",
       "      <td>4.577000e+03</td>\n",
       "      <td>4577.000000</td>\n",
       "      <td>4577.000000</td>\n",
       "    </tr>\n",
       "    <tr>\n",
       "      <th>mean</th>\n",
       "      <td>2.104834e+04</td>\n",
       "      <td>1.374068e+04</td>\n",
       "      <td>670.058117</td>\n",
       "      <td>15464.637754</td>\n",
       "    </tr>\n",
       "    <tr>\n",
       "      <th>std</th>\n",
       "      <td>7.403956e+04</td>\n",
       "      <td>2.886870e+05</td>\n",
       "      <td>1828.579081</td>\n",
       "      <td>35888.610798</td>\n",
       "    </tr>\n",
       "    <tr>\n",
       "      <th>min</th>\n",
       "      <td>1.000000e+00</td>\n",
       "      <td>0.000000e+00</td>\n",
       "      <td>0.000000</td>\n",
       "      <td>0.000000</td>\n",
       "    </tr>\n",
       "    <tr>\n",
       "      <th>25%</th>\n",
       "      <td>8.650000e+02</td>\n",
       "      <td>2.800000e+01</td>\n",
       "      <td>95.000000</td>\n",
       "      <td>549.000000</td>\n",
       "    </tr>\n",
       "    <tr>\n",
       "      <th>50%</th>\n",
       "      <td>3.722000e+03</td>\n",
       "      <td>1.090000e+02</td>\n",
       "      <td>253.000000</td>\n",
       "      <td>3434.000000</td>\n",
       "    </tr>\n",
       "    <tr>\n",
       "      <th>75%</th>\n",
       "      <td>1.531200e+04</td>\n",
       "      <td>5.000000e+02</td>\n",
       "      <td>626.000000</td>\n",
       "      <td>14012.000000</td>\n",
       "    </tr>\n",
       "    <tr>\n",
       "      <th>max</th>\n",
       "      <td>3.481864e+06</td>\n",
       "      <td>1.251379e+07</td>\n",
       "      <td>53481.000000</td>\n",
       "      <td>614615.000000</td>\n",
       "    </tr>\n",
       "  </tbody>\n",
       "</table>\n",
       "</div>"
      ],
      "text/plain": [
       "             tweets     followers     following          likes\n",
       "count  4.577000e+03  4.577000e+03   4577.000000    4577.000000\n",
       "mean   2.104834e+04  1.374068e+04    670.058117   15464.637754\n",
       "std    7.403956e+04  2.886870e+05   1828.579081   35888.610798\n",
       "min    1.000000e+00  0.000000e+00      0.000000       0.000000\n",
       "25%    8.650000e+02  2.800000e+01     95.000000     549.000000\n",
       "50%    3.722000e+03  1.090000e+02    253.000000    3434.000000\n",
       "75%    1.531200e+04  5.000000e+02    626.000000   14012.000000\n",
       "max    3.481864e+06  1.251379e+07  53481.000000  614615.000000"
      ]
     },
     "execution_count": 244,
     "metadata": {},
     "output_type": "execute_result"
    }
   ],
   "source": [
    "#statisitcal description of users with less than 50 days age\n",
    "users_df[(users_df.twitter_age.dt.days>50)][['tweets',\"followers\",\"following\",\"likes\"]].describe()"
   ]
  },
  {
   "cell_type": "markdown",
   "metadata": {},
   "source": [
    "This is a rought estimation, however, this includes celebrities with verified accounts and huge fan following. So this table will have skewed data."
   ]
  },
  {
   "cell_type": "markdown",
   "metadata": {},
   "source": [
    "### Conclusion"
   ]
  },
  {
   "cell_type": "markdown",
   "metadata": {},
   "source": [
    "Just with priliminary analysis, it has been observed that twint is quite reliable source for data acquisition from twitter. It does however come with it's limitation. Analysis of delhiriots indicate usage of bots to influence public sentiments. However, further investigation has to be performed, to make viable conclusion."
   ]
  },
  {
   "cell_type": "markdown",
   "metadata": {},
   "source": [
    "### Future work"
   ]
  },
  {
   "cell_type": "markdown",
   "metadata": {},
   "source": [
    "With involvement of NLP and other statistical analysis tool this investigation can be taken further and more insights can be taken out from this dataset. If successful these techniques can be employed to track and uncover such global operations."
   ]
  }
 ],
 "metadata": {
  "kernelspec": {
   "display_name": "Python 3",
   "language": "python",
   "name": "python3"
  },
  "language_info": {
   "codemirror_mode": {
    "name": "ipython",
    "version": 3
   },
   "file_extension": ".py",
   "mimetype": "text/x-python",
   "name": "python",
   "nbconvert_exporter": "python",
   "pygments_lexer": "ipython3",
   "version": "3.7.6"
  }
 },
 "nbformat": 4,
 "nbformat_minor": 4
}
